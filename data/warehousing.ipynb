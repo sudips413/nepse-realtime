{
 "cells": [
  {
   "cell_type": "code",
   "execution_count": 1,
   "metadata": {},
   "outputs": [],
   "source": [
    "import psycopg2\n",
    "import pandas as pd\n",
    "import configparser\n",
    "from psycopg2 import sql"
   ]
  },
  {
   "cell_type": "code",
   "execution_count": 2,
   "metadata": {},
   "outputs": [],
   "source": [
    "config= configparser.ConfigParser()\n",
    "config.read_file(open('credentials.cfg'))"
   ]
  },
  {
   "cell_type": "code",
   "execution_count": 3,
   "metadata": {},
   "outputs": [],
   "source": [
    "host=config.get('REDSHIFT','HOST')\n",
    "port = config.get('REDSHIFT','PORT')\n",
    "database = config.get('REDSHIFT','DATABASE')\n",
    "user = config.get('REDSHIFT','USER')\n",
    "password = config.get('REDSHIFT','PASSWORD')\n"
   ]
  },
  {
   "cell_type": "code",
   "execution_count": 4,
   "metadata": {},
   "outputs": [
    {
     "name": "stdout",
     "output_type": "stream",
     "text": [
      "nepsedata.404951734109.ap-south-1.redshift-serverless.amazonaws.com\n"
     ]
    }
   ],
   "source": [
    "print(host)"
   ]
  },
  {
   "cell_type": "code",
   "execution_count": 6,
   "metadata": {},
   "outputs": [],
   "source": [
    "conn = psycopg2.connect(host=host, port=port, database=database, user=user, password=password)\n",
    "cursor = conn.cursor()\n"
   ]
  },
  {
   "cell_type": "code",
   "execution_count": 6,
   "metadata": {},
   "outputs": [],
   "source": [
    "\n",
    "cursor.execute(\"SELECT * FROM information_schema.tables WHERE table_name='nepse';\")\n",
    "table_exits = bool(cursor.rowcount)\n",
    "if not table_exits:\n",
    "    cursor.execute(\"CREATE TABLE IF NOT EXISTS nepse(company_name varchar(100), date varchar(100), confidence float, open_price float,highest_price float,lowest_price float, closing_price float, VWAP float, total_traded_quantity float, Previous_closing float, total_traded_value float, total_trades float, difference float, range float, difference_percentage float, range_percentage float, VWAP_percentage float, year_high float, year_low float)\")\n",
    "    conn.commit()\n"
   ]
  },
  {
   "cell_type": "code",
   "execution_count": 60,
   "metadata": {},
   "outputs": [],
   "source": [
    "conn.commit ()"
   ]
  },
  {
   "cell_type": "code",
   "execution_count": 7,
   "metadata": {},
   "outputs": [],
   "source": [
    "df = pd.read_csv('nepsedata.csv')\n",
    "data = [tuple(row) for row in df.values]\n",
    "sql = 'INSERT INTO nepse VALUES %s'\n",
    "args_str = ','.join(cursor.mogrify(\"(%s, %s, %s, %s, %s, %s, %s, %s, %s, %s,%s,%s,%s,%s,%s,%s,%s,%s,%s)\", x).decode('utf-8') for x in data)\n",
    "cursor.execute(sql % args_str)\n",
    "conn.commit()"
   ]
  },
  {
   "cell_type": "code",
   "execution_count": 7,
   "metadata": {},
   "outputs": [
    {
     "name": "stdout",
     "output_type": "stream",
     "text": [
      "[(75441,)]\n"
     ]
    }
   ],
   "source": [
    "cursor.execute(\"SELECT count(*) FROM nepse\")\n",
    "print(cursor.fetchall())"
   ]
  },
  {
   "cell_type": "code",
   "execution_count": null,
   "metadata": {},
   "outputs": [],
   "source": [
    "### find"
   ]
  }
 ],
 "metadata": {
  "kernelspec": {
   "display_name": "coderush",
   "language": "python",
   "name": "python3"
  },
  "language_info": {
   "codemirror_mode": {
    "name": "ipython",
    "version": 3
   },
   "file_extension": ".py",
   "mimetype": "text/x-python",
   "name": "python",
   "nbconvert_exporter": "python",
   "pygments_lexer": "ipython3",
   "version": "3.10.9"
  },
  "orig_nbformat": 4
 },
 "nbformat": 4,
 "nbformat_minor": 2
}
